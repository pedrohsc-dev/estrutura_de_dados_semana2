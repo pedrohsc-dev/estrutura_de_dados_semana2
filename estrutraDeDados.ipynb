{
 "cells": [
  {
   "cell_type": "markdown",
   "metadata": {},
   "source": [
    "# Estrutras de Dados\n",
    "\n",
    "Nessa aula serão abordados os principais objetos existentes no Python: floats, inteiros, booleanos, strings, listas, tuplas, sets e dicionários.\n",
    "\n",
    "---\n",
    "## Sumário\n",
    "* Tipos de dados.\n",
    "* O que são estruturas de dados.\n",
    "* O que são métodos e noção de função.\n",
    "* Métodos úteis de string.\n",
    "* Formatação de string.\n",
    "* Listas, tuplas e set.\n",
    "* Métodos úteis de list."
   ]
  },
  {
   "cell_type": "code",
   "execution_count": null,
   "metadata": {},
   "outputs": [],
   "source": []
  }
 ],
 "metadata": {
  "kernelspec": {
   "display_name": "base",
   "language": "python",
   "name": "python3"
  },
  "language_info": {
   "codemirror_mode": {
    "name": "ipython",
    "version": 3
   },
   "file_extension": ".py",
   "mimetype": "text/x-python",
   "name": "python",
   "nbconvert_exporter": "python",
   "pygments_lexer": "ipython3",
   "version": "3.11.4"
  },
  "orig_nbformat": 4
 },
 "nbformat": 4,
 "nbformat_minor": 2
}
