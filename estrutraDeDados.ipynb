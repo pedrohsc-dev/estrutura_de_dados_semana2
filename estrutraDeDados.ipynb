{
 "cells": [
  {
   "cell_type": "markdown",
   "metadata": {},
   "source": [
    "# Estrutras de Dados\n",
    "\n",
    "Nessa aula serão abordados os principais objetos existentes no Python: floats, inteiros, booleanos, strings, listas, tuplas, sets e dicionários.\n",
    "\n",
    "---\n",
    "## Sumário\n",
    "* Tipos de dados."
   ]
  },
  {
   "cell_type": "code",
   "execution_count": 2,
   "metadata": {},
   "outputs": [
    {
     "name": "stdout",
     "output_type": "stream",
     "text": [
      "<class 'str'>\n",
      "<class 'int'>\n",
      "<class 'float'>\n",
      "<class 'bool'>\n"
     ]
    }
   ],
   "source": [
    "# Quais são os tipos de dados.\n",
    "string = \"Olá Mundo!\"\n",
    "inteiro = 13\n",
    "floats = 9.9\n",
    "booleanos = True\n",
    "print(type(string))\n",
    "print(type(inteiro))\n",
    "print(type(floats))\n",
    "print(type(booleanos))"
   ]
  },
  {
   "cell_type": "markdown",
   "metadata": {},
   "source": [
    "Como mostrado no exemplo acima, em python existem alguns tipos de dados básicos sendo eles:\n",
    "* string ou 'str': que trasnforma todo tipo de caractere que estiver entre aspas duplas ou simples em palavaras.\n",
    "* Inteiro ou 'int': que como o próprio nome índica, é o dado que se refere ao grupo dos números inteiros.\n",
    "* Flutuantes ou floats: são os dados que estão contidos no grupo dos números radicais, ou seja, números que possuem mais de uma casa decimal.\n",
    "*Booleanos ou 'bool': são dados de verifiação e so podem mostrar dois valores True(verdadeiro) ou False(falso).\n",
    "\n",
    "Para mais informações sobre tipos de dados [clique aqui](https://docs.python.org/pt-br/3/library/datatypes.html) e acesse a documentação oficial do Python."
   ]
  },
  {
   "cell_type": "markdown",
   "metadata": {},
   "source": []
  },
  {
   "cell_type": "code",
   "execution_count": null,
   "metadata": {},
   "outputs": [],
   "source": []
  }
 ],
 "metadata": {
  "kernelspec": {
   "display_name": "base",
   "language": "python",
   "name": "python3"
  },
  "language_info": {
   "codemirror_mode": {
    "name": "ipython",
    "version": 3
   },
   "file_extension": ".py",
   "mimetype": "text/x-python",
   "name": "python",
   "nbconvert_exporter": "python",
   "pygments_lexer": "ipython3",
   "version": "3.11.5"
  },
  "orig_nbformat": 4
 },
 "nbformat": 4,
 "nbformat_minor": 2
}
