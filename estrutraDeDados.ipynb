{
 "cells": [
  {
   "cell_type": "markdown",
   "metadata": {},
   "source": [
    "# Estrutras de Dados\n",
    "\n",
    "Nessa aula serão abordados os principais objetos existentes no Python: floats, inteiros, booleanos, strings, listas, tuplas, sets e dicionários.\n",
    "\n",
    "---\n",
    "## Sumário\n",
    "* Tipos de dados."
   ]
  },
  {
   "cell_type": "code",
   "execution_count": 2,
   "metadata": {},
   "outputs": [
    {
     "name": "stdout",
     "output_type": "stream",
     "text": [
      "<class 'str'>\n",
      "<class 'int'>\n",
      "<class 'float'>\n",
      "<class 'bool'>\n"
     ]
    }
   ],
   "source": [
    "# Quais são os tipos de dados.\n",
    "string = \"Olá Mundo!\"\n",
    "inteiro = 13\n",
    "floats = 9.9\n",
    "booleanos = True\n",
    "print(type(string))\n",
    "print(type(inteiro))\n",
    "print(type(floats))\n",
    "print(type(booleanos))"
   ]
  },
  {
   "cell_type": "markdown",
   "metadata": {},
   "source": [
    "Como mostrado no exemplo acima, em python existem alguns tipos de dados básicos sendo eles:\n",
    "* string ou 'str': que trasnforma todo tipo de caractere que estiver entre aspas duplas ou simples em palavaras.\n",
    "* Inteiro ou 'int': que como o próprio nome índica, é o dado que se refere ao grupo dos números inteiros.\n",
    "* Flutuantes ou floats: são os dados que estão contidos no grupo dos números radicais, ou seja, números que possuem mais de uma casa decimal.\n",
    "*Booleanos ou 'bool': são dados de verifiação e so podem mostrar dois valores True(verdadeiro) ou False(falso).\n",
    "\n",
    "Para mais informações sobre tipos de dados [clique aqui](https://docs.python.org/pt-br/3/library/datatypes.html) e acesse a documentação oficial do Python."
   ]
  },
  {
   "cell_type": "markdown",
   "metadata": {},
   "source": [
    "## Abordadno um pouco mais sobre strings.\n",
    "O python trabalha bastante com variáveis, pois elas facilitam muito a introdução de dados em nossos códigos.\n",
    "Por isto existem algumas maneiras de usar a função print para que assim possa mostrar os valores destas variáveis. Veremos alguns çogo abaixo."
   ]
  },
  {
   "cell_type": "code",
   "execution_count": 5,
   "metadata": {},
   "outputs": [
    {
     "name": "stdout",
     "output_type": "stream",
     "text": [
      "Estou aprendendo python e é muito legal\n",
      "Estou aprendendo python e é muito legal\n"
     ]
    }
   ],
   "source": [
    "# Adicionando váriaveis junto das strings usando operador de soma(+) ou vírgula(,).\n",
    "variavel = \"python\"\n",
    "\n",
    "print(\"Estou aprendendo \" + variavel + \" e é muito legal\")\n",
    "print(\"Estou aprendendo\",variavel,\"e é muito legal\")\n",
    "# Note que ao utilizar a vírgula adiciona-se um espaço entre a variável e a string  "
   ]
  },
  {
   "cell_type": "code",
   "execution_count": 6,
   "metadata": {},
   "outputs": [
    {
     "name": "stdout",
     "output_type": "stream",
     "text": [
      "Estou aprendendo Python e isto é muito legal!\n",
      "Estou aprendendo Python e isto é muito legal! \n"
     ]
    }
   ],
   "source": [
    "# Adicionando váriaveis junto das strings usando format.\n",
    "variavel1 = \"Python\"\n",
    "variavel2 = \"legal\"\n",
    "\n",
    "print(f\"Estou aprendendo {variavel1} e isto é muito {variavel2}!\")\n",
    "print(\"Estou aprendendo {} e isto é muito {}! \".format(variavel1, variavel2))"
   ]
  },
  {
   "cell_type": "markdown",
   "metadata": {},
   "source": [
    "Para saber mais sobre formatação de strings [clique aqui](https://docs.python.org/pt-br/3/tutorial/inputoutput.html)."
   ]
  },
  {
   "cell_type": "markdown",
   "metadata": {},
   "source": [
    "## Listas\n",
    "As listas são umas das formas de criar estruturas de dados. A grosso modo, pense nas listas como uma variável que consegue armazenar mais de um valor e esse valores assim como os valores das variáveis ccomuns são mutáveis.\n",
    "Esses valores que estarão contidos dentro da lista podem ser strings, inteiros, floats, booleanos e etc. E esses valores estarão contidos entre colchetes '[ ]'."
   ]
  },
  {
   "cell_type": "code",
   "execution_count": 7,
   "metadata": {},
   "outputs": [
    {
     "name": "stdout",
     "output_type": "stream",
     "text": [
      "['carro', 'bicicleta', 'avião', 'jegue']\n"
     ]
    }
   ],
   "source": [
    "# Lista\n",
    "\n",
    "veiculos = [\"carro\", \"bicicleta\", \"avião\", \"jegue\"]\n",
    "\n",
    "# Desta forma o código mostrara a coleção de itens presentes na lista.\n",
    "\n",
    "print(veiculos)"
   ]
  },
  {
   "cell_type": "code",
   "execution_count": 8,
   "metadata": {},
   "outputs": [
    {
     "name": "stdout",
     "output_type": "stream",
     "text": [
      "carro\n",
      "bicicleta\n",
      "avião\n",
      "jegue\n"
     ]
    }
   ],
   "source": [
    "# Também tem  como usar a função \"For\" para fazer o código imprimir item por item da lista veículos.\n",
    "\n",
    "for meio_de_loomocao in veiculos:\n",
    "    print(meio_de_loomocao)\n",
    "\n",
    "# Utilizando o função \"For\" e depois o função \"print\", o código mostrará os itens de forma unitária \n",
    "# e com a organização parecendo mais com a de uma lista.\n"
   ]
  },
  {
   "cell_type": "code",
   "execution_count": 9,
   "metadata": {},
   "outputs": [
    {
     "name": "stdout",
     "output_type": "stream",
     "text": [
      "<class 'list'>\n"
     ]
    }
   ],
   "source": [
    "# É importante se lembrar que assim como as variáveis as lista podem armazenar diversos tipos de dados.\n",
    "# Sendo eles inteirosm strings booleanos ou floats e etc..\n",
    "\n",
    "lista = [ 1, \"aluno\", True, 3.4 ]\n",
    "\n",
    "# Ao ussar a função print junto ao comando type no exemplo abaixo, você podera notar que a variável lista\n",
    "# ainda sim é uma se comportarar como tal.\n",
    "\n",
    "print(type(lista))"
   ]
  },
  {
   "cell_type": "markdown",
   "metadata": {},
   "source": [
    "## Tuplas \n",
    "Assim como as listas, as tuplas também são um tipo uma forma de se criar ma estrutura de dados, no entanto esses dados não são mutaveis, diferente das variáveis, listas, dicionários, e stets, e os valores das tuplas são representados visualmente entre parênteses '( )'.\n"
   ]
  },
  {
   "cell_type": "code",
   "execution_count": 10,
   "metadata": {},
   "outputs": [
    {
     "name": "stdout",
     "output_type": "stream",
     "text": [
      "('carro', 'cavalo', 'combi', 'canoa')\n"
     ]
    }
   ],
   "source": [
    "# Tuplas\n",
    "tupla = (\"carro\", \"cavalo\", \"combi\", \"canoa\" )\n",
    "\n",
    "print(tupla)"
   ]
  },
  {
   "cell_type": "code",
   "execution_count": 11,
   "metadata": {},
   "outputs": [
    {
     "name": "stdout",
     "output_type": "stream",
     "text": [
      "carro\n",
      "cavalo\n",
      "combi\n",
      "canoa\n"
     ]
    }
   ],
   "source": [
    "# Assim como print também tem como utilizar a função \"For\" e depois a função \"Print\" para mostra item por item.\n",
    "\n",
    "for veiculo in tupla:\n",
    "    print(veiculo)"
   ]
  },
  {
   "cell_type": "code",
   "execution_count": 12,
   "metadata": {},
   "outputs": [
    {
     "name": "stdout",
     "output_type": "stream",
     "text": [
      "<class 'tuple'>\n"
     ]
    }
   ],
   "source": [
    "# Tuplas também podem conter mais de um tipo de dado como valor.\n",
    "\n",
    "tupla1 = (1, \"carro\", False, 2.2 )\n",
    "\n",
    "print(type(tupla1))"
   ]
  },
  {
   "cell_type": "code",
   "execution_count": null,
   "metadata": {},
   "outputs": [],
   "source": []
  }
 ],
 "metadata": {
  "kernelspec": {
   "display_name": "base",
   "language": "python",
   "name": "python3"
  },
  "language_info": {
   "codemirror_mode": {
    "name": "ipython",
    "version": 3
   },
   "file_extension": ".py",
   "mimetype": "text/x-python",
   "name": "python",
   "nbconvert_exporter": "python",
   "pygments_lexer": "ipython3",
   "version": "3.11.5"
  },
  "orig_nbformat": 4
 },
 "nbformat": 4,
 "nbformat_minor": 2
}
